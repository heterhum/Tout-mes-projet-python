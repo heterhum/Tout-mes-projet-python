{
 "cells": [
  {
   "cell_type": "markdown",
   "metadata": {},
   "source": [
    "Variable"
   ]
  },
  {
   "cell_type": "code",
   "execution_count": 10,
   "metadata": {},
   "outputs": [],
   "source": [
    "import copy\n",
    "\n",
    "X=Y=5\n",
    "DEPTH = 4\n",
    "REUSSITE = 4\n",
    "ALGO_SYMB=\"O\"\n",
    "morpion=[[' ' for _ in range(X)] for _ in range(Y)]\n"
   ]
  },
  {
   "cell_type": "markdown",
   "metadata": {},
   "source": [
    "Vérifie la Victoire"
   ]
  },
  {
   "cell_type": "code",
   "execution_count": 3,
   "metadata": {},
   "outputs": [],
   "source": [
    "def check_victoire(grille, symbole, longueur):\n",
    "    directions = [(1, 0), (0, 1), (1, 1), (1, -1)]  # droite, bas, diag-bas, diag-haut\n",
    "\n",
    "    for y in range(Y):\n",
    "        for x in range(X):\n",
    "            if grille[y][x] != symbole:\n",
    "                continue\n",
    "            for dx, dy in directions:\n",
    "                count = 1\n",
    "                nx, ny = x + dx, y + dy\n",
    "                while 0 <= nx < X and 0 <= ny < Y and grille[ny][nx] == symbole:\n",
    "                    count += 1\n",
    "                    if count >= longueur:\n",
    "                        return True\n",
    "                    nx += dx\n",
    "                    ny += dy\n",
    "    return False\n"
   ]
  },
  {
   "cell_type": "markdown",
   "metadata": {},
   "source": [
    "Vérifie si une victoire est possible en un coup"
   ]
  },
  {
   "cell_type": "code",
   "execution_count": 4,
   "metadata": {},
   "outputs": [],
   "source": [
    "def potvic(grille, symbole, reussite,X,Y):\n",
    "    directions = [(-1,-1),(0,-1),(1,-1),(1,0),(1,1),(0,1),(-1,1),(-1,0)]\n",
    "    l=[]\n",
    "    for y in range(Y):\n",
    "        for x in range(X):\n",
    "            if grille[y][x] == ' ':\n",
    "                coor=(x,y)\n",
    "    \n",
    "                vic=[0 for i in range(8)]\n",
    "                place=0\n",
    "\n",
    "                for dx, dy in directions:\n",
    "                    count=0\n",
    "                    nx, ny = coor[0] + dx, coor[1] + dy\n",
    "                    while 0 <= nx < X and 0 <= ny < Y and grille[ny][nx] == symbole:\n",
    "                        count += 1\n",
    "                        nx += dx\n",
    "                        ny += dy\n",
    "                    vic[place]=count\n",
    "                    place+=1  \n",
    "\n",
    "                for i in range(8):\n",
    "                    if vic[i]!=0 and 0<= i+4 <7 and vic[i+4] != 0 and vic[i]+vic[i+4]+1 >=reussite:\n",
    "                        l.append(coor)\n",
    "                    elif vic[i]+1>=reussite: \n",
    "                        l.append(coor)\n",
    "    return l"
   ]
  },
  {
   "cell_type": "markdown",
   "metadata": {},
   "source": [
    "Compte le nombre de case vide en liste"
   ]
  },
  {
   "cell_type": "code",
   "execution_count": 5,
   "metadata": {},
   "outputs": [],
   "source": [
    "def casevide(grille,X,Y):\n",
    "    l=[]\n",
    "    for y in range(Y):\n",
    "        for x in range(X):\n",
    "            if grille[y][x] == ' ':\n",
    "                l.append((x,y))\n",
    "    return l"
   ]
  },
  {
   "cell_type": "markdown",
   "metadata": {},
   "source": [
    "Calcule du nombre de point"
   ]
  },
  {
   "cell_type": "code",
   "execution_count": 6,
   "metadata": {},
   "outputs": [],
   "source": [
    "def calcpoint(grille, symbole,reussite,X,Y):\n",
    "    point=0\n",
    "    if check_victoire(grille,symbole,reussite):\n",
    "        point+=50\n",
    "        \n",
    "    point+=len(potvic(grille,symbole,reussite,X,Y))*10\n",
    "    if symbole == \"X\":\n",
    "        symbole=\"O\"\n",
    "    else:\n",
    "        symbole=\"X\"\n",
    "        \n",
    "    if check_victoire(grille,symbole,reussite):\n",
    "        point-=50\n",
    "    return point"
   ]
  },
  {
   "cell_type": "markdown",
   "metadata": {},
   "source": [
    "Crée le dico d'enfent remplie eu meme de dico et d'enfant ... Je crée l'abre\n",
    "\n",
    "createarbre(Le morpion,dernier endroit joué,symbole qui a joué,reussite,X,Y,couche actuelle,couche Max,symbole du robot)"
   ]
  },
  {
   "cell_type": "code",
   "execution_count": 7,
   "metadata": {},
   "outputs": [],
   "source": [
    "def createarbre(grille,coor,symbole,reussite,X,Y,depth,maxdepth,basesymbole):\n",
    "    fut_child=casevide(grille,X,Y)\n",
    "\n",
    "    if depth == maxdepth or check_victoire(grille,symbole,reussite) or len(fut_child) == 0:\n",
    "        return {\"coor\":coor,\"child\":[],\"score\":calcpoint(grille,basesymbole,reussite,X,Y),\"depth\":depth,\"symbole\" : symbole}\n",
    "    \n",
    "    else:        \n",
    "        children = []\n",
    "        for i in fut_child:\n",
    "            newgrille=copy.deepcopy(grille)\n",
    "            newgrille[i[1]][i[0]]=\"O\" if symbole == \"X\" else \"X\"\n",
    "            children.append(createarbre(newgrille,i,\"O\" if symbole == \"X\" else \"X\",reussite,X,Y,depth+1,maxdepth,basesymbole))\n",
    "        return {\"coor\":coor,\"child\":children,\"score\":None,\"depth\":depth,\"symbole\" : symbole}\n"
   ]
  },
  {
   "cell_type": "markdown",
   "metadata": {},
   "source": [
    "MinMax fonction"
   ]
  },
  {
   "cell_type": "code",
   "execution_count": 8,
   "metadata": {},
   "outputs": [],
   "source": [
    "def minmax(node,symbole):\n",
    "    if node[\"score\"] == None:\n",
    "        if node[\"symbole\"] == symbole:\n",
    "            node[\"score\"]=min([minmax(i,symbole) for i in node[\"child\"]])\n",
    "            return node[\"score\"]\n",
    "        else: \n",
    "            node[\"score\"]=max([minmax(i,symbole) for i in node[\"child\"]])\n",
    "            return node[\"score\"]\n",
    "    else:\n",
    "        return node[\"score\"]\n",
    "\n",
    "def ultimatefinalresultatofoneweekwork(grille,coor,symbole,reussite,X,Y,depth,basesymbole):\n",
    "    node=createarbre(grille,coor,symbole,reussite,X,Y,0,depth,basesymbole)\n",
    "    minmax(node,basesymbole)\n",
    "    maxi=node[\"child\"][0]\n",
    "    for i in node[\"child\"]:\n",
    "        if i[\"score\"] > maxi[\"score\"]:\n",
    "            maxi=i\n",
    "    return maxi[\"coor\"]\n",
    "\n",
    "#ultimatefinalresultatofoneweekwork(morpion,(0,0),\"X\",REUSSITE,X,Y,DEPTH,ALGO_SYMB)"
   ]
  },
  {
   "cell_type": "markdown",
   "metadata": {},
   "source": [
    "En pygame maintenant"
   ]
  },
  {
   "cell_type": "code",
   "execution_count": 11,
   "metadata": {},
   "outputs": [
    {
     "name": "stdout",
     "output_type": "stream",
     "text": [
      "Match nul\n"
     ]
    }
   ],
   "source": [
    "import pygame\n",
    "\n",
    "N = 100\n",
    "screen = pygame.display.set_mode((N * X, N * Y))\n",
    "running = True\n",
    "Play=\"X\" if ALGO_SYMB == \"O\" else \"O\"\n",
    "\n",
    "def dess(grille):\n",
    "    for y in range(Y):\n",
    "        for x in range(X):\n",
    "            if grille[y][x] == \"X\":\n",
    "                pygame.draw.rect(screen, (255, 0, 0), pygame.Rect(x * N, y * N, N - 1, N - 1))\n",
    "            elif grille[y][x] == \"O\":\n",
    "                pygame.draw.rect(screen, (0, 255, 0), pygame.Rect(x * N, y * N, N - 1, N - 1))\n",
    "            else:\n",
    "                pygame.draw.rect(screen, (0, 0, 0), pygame.Rect(x * N, y * N, N - 1, N - 1))\n",
    "\n",
    "while running:\n",
    "    for event in pygame.event.get():\n",
    "        if event.type == pygame.QUIT: running = False\n",
    "        if event.type == pygame.MOUSEBUTTONDOWN:\n",
    "            pos = pygame.mouse.get_pos()\n",
    "            pos=( pos[0] // N, pos[1] // N )\n",
    "            if morpion[pos[1]][pos[0]] == ' ':\n",
    "                morpion[pos[1]][pos[0]] = Play\n",
    "                if check_victoire(morpion, Play, REUSSITE):\n",
    "                    print(\"Victoire de\", Play)\n",
    "                    running = False\n",
    "                    continue\n",
    "                elif casevide(morpion,X,Y) == []:\n",
    "                    print(\"Match nul\")\n",
    "                    running = False\n",
    "                    continue\n",
    "            if Play == \"X\":\n",
    "                new_pos=ultimatefinalresultatofoneweekwork(morpion,pos,\"X\",REUSSITE,X,Y,DEPTH,ALGO_SYMB)\n",
    "                morpion[new_pos[1]][new_pos[0]] = ALGO_SYMB\n",
    "                if check_victoire(morpion, ALGO_SYMB, REUSSITE):\n",
    "                    print(\"Victoire de\", ALGO_SYMB)\n",
    "                    running = False\n",
    "                    continue\n",
    "                elif casevide(morpion,X,Y) == []:\n",
    "                    print(\"Match nul\")\n",
    "                    running = False\n",
    "                    continue\n",
    "    dess(morpion)\n",
    "    pygame.display.update()\n",
    "pygame.quit()\n"
   ]
  },
  {
   "cell_type": "code",
   "execution_count": null,
   "metadata": {},
   "outputs": [],
   "source": []
  }
 ],
 "metadata": {
  "kernelspec": {
   "display_name": "Python 3",
   "language": "python",
   "name": "python3"
  },
  "language_info": {
   "codemirror_mode": {
    "name": "ipython",
    "version": 3
   },
   "file_extension": ".py",
   "mimetype": "text/x-python",
   "name": "python",
   "nbconvert_exporter": "python",
   "pygments_lexer": "ipython3",
   "version": "3.12.6"
  }
 },
 "nbformat": 4,
 "nbformat_minor": 2
}
