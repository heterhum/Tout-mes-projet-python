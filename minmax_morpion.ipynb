{
 "cells": [
  {
   "cell_type": "markdown",
   "metadata": {},
   "source": [
    "Variable"
   ]
  },
  {
   "cell_type": "code",
   "execution_count": 22,
   "metadata": {},
   "outputs": [
    {
     "name": "stdout",
     "output_type": "stream",
     "text": [
      "['X', 'O', ' ']\n",
      "['X', 'O', ' ']\n",
      "[' ', 'X', ' ']\n"
     ]
    }
   ],
   "source": [
    "import copy\n",
    "\n",
    "X=Y=3\n",
    "DEPTH = 3\n",
    "morpion=[[' ' for _ in range(X)] for _ in range(Y)]\n",
    "morpion[0][0] = 'X'\n",
    "morpion[1][0] = 'X'\n",
    "morpion[0][1] = 'O'\n",
    "morpion[1][1] = 'O'\n",
    "morpion[2][1] = 'X'\n",
    "#morpion[0][2] = 'O'\n",
    "#morpion[1][2] = 'X'\n",
    "for i in morpion:\n",
    "    print(i)"
   ]
  },
  {
   "cell_type": "markdown",
   "metadata": {},
   "source": [
    "Vérifie la Victoire"
   ]
  },
  {
   "cell_type": "code",
   "execution_count": 3,
   "metadata": {},
   "outputs": [],
   "source": [
    "def check_victoire(grille, symbole, longueur):\n",
    "    directions = [(1, 0), (0, 1), (1, 1), (1, -1)]  # droite, bas, diag-bas, diag-haut\n",
    "\n",
    "    for y in range(Y):\n",
    "        for x in range(X):\n",
    "            if grille[y][x] != symbole:\n",
    "                continue\n",
    "            for dx, dy in directions:\n",
    "                count = 1\n",
    "                nx, ny = x + dx, y + dy\n",
    "                while 0 <= nx < X and 0 <= ny < Y and grille[ny][nx] == symbole:\n",
    "                    count += 1\n",
    "                    if count >= longueur:\n",
    "                        return True\n",
    "                    nx += dx\n",
    "                    ny += dy\n",
    "    return False\n"
   ]
  },
  {
   "cell_type": "markdown",
   "metadata": {},
   "source": [
    "Vérifie si une victoire est possible en un coup"
   ]
  },
  {
   "cell_type": "code",
   "execution_count": 4,
   "metadata": {},
   "outputs": [],
   "source": [
    "def potvic(grille, symbole, reussite,X,Y):\n",
    "    directions = [(-1,-1),(0,-1),(1,-1),(1,0),(1,1),(0,1),(-1,1),(-1,0)]\n",
    "    l=[]\n",
    "    for y in range(Y):\n",
    "        for x in range(X):\n",
    "            if grille[y][x] == ' ':\n",
    "                coor=(x,y)\n",
    "    \n",
    "                vic=[0 for i in range(8)]\n",
    "                place=0\n",
    "\n",
    "                for dx, dy in directions:\n",
    "                    count=0\n",
    "                    nx, ny = coor[0] + dx, coor[1] + dy\n",
    "                    while 0 <= nx < X and 0 <= ny < Y and grille[ny][nx] == symbole:\n",
    "                        count += 1\n",
    "                        nx += dx\n",
    "                        ny += dy\n",
    "                    vic[place]=count\n",
    "                    place+=1  \n",
    "\n",
    "                for i in range(8):\n",
    "                    if vic[i]!=0 and 0<= i+4 <7 and vic[i+4] != 0 and vic[i]+vic[i+4]+1 >=reussite:\n",
    "                        l.append(coor)\n",
    "                    elif vic[i]+1>=reussite: \n",
    "                        l.append(coor)\n",
    "    return l"
   ]
  },
  {
   "cell_type": "markdown",
   "metadata": {},
   "source": [
    "Compte le nombre de case vide en liste"
   ]
  },
  {
   "cell_type": "code",
   "execution_count": 5,
   "metadata": {},
   "outputs": [],
   "source": [
    "def casevide(grille,X,Y):\n",
    "    l=[]\n",
    "    for y in range(Y):\n",
    "        for x in range(X):\n",
    "            if grille[y][x] == ' ':\n",
    "                l.append((x,y))\n",
    "    return l"
   ]
  },
  {
   "cell_type": "markdown",
   "metadata": {},
   "source": [
    "Calcule du nombre de point"
   ]
  },
  {
   "cell_type": "code",
   "execution_count": 6,
   "metadata": {},
   "outputs": [],
   "source": [
    "def calcpoint(grille, symbole,reussite,X,Y):\n",
    "    point=0\n",
    "    if check_victoire(grille,symbole,reussite):\n",
    "        point+=50\n",
    "        \n",
    "    point+=len(potvic(grille,symbole,reussite,X,Y))*10\n",
    "    if symbole == \"X\":\n",
    "        symbole=\"O\"\n",
    "    else:\n",
    "        symbole=\"X\"\n",
    "        \n",
    "    if check_victoire(grille,symbole,reussite):\n",
    "        point-=50\n",
    "    return point"
   ]
  },
  {
   "cell_type": "markdown",
   "metadata": {},
   "source": [
    "Crée le dico d'enfent remplie eu meme de dico et d'enfant ... Je crée l'abre\n",
    "\n",
    "createarbre(Le morpion,dernier endroit joué,symbole qui a joué,reussite,X,Y,couche actuelle,couche Max,symbole du robot)"
   ]
  },
  {
   "cell_type": "code",
   "execution_count": 24,
   "metadata": {},
   "outputs": [
    {
     "name": "stdout",
     "output_type": "stream",
     "text": [
      "{'coor': (1, 2), 'child': [{'coor': (2, 0), 'child': [{'coor': (2, 1), 'child': [{'coor': (0, 2), 'child': [], 'score': 50, 'depth': 3, 'symbole': 'O'}, {'coor': (2, 2), 'child': [], 'score': 10, 'depth': 3, 'symbole': 'O'}], 'score': None, 'depth': 2, 'symbole': 'X'}, {'coor': (0, 2), 'child': [], 'score': -50, 'depth': 2, 'symbole': 'X'}, {'coor': (2, 2), 'child': [{'coor': (2, 1), 'child': [], 'score': 10, 'depth': 3, 'symbole': 'O'}, {'coor': (0, 2), 'child': [], 'score': 50, 'depth': 3, 'symbole': 'O'}], 'score': None, 'depth': 2, 'symbole': 'X'}], 'score': None, 'depth': 1, 'symbole': 'O'}, {'coor': (2, 1), 'child': [{'coor': (2, 0), 'child': [{'coor': (0, 2), 'child': [], 'score': 0, 'depth': 3, 'symbole': 'O'}, {'coor': (2, 2), 'child': [], 'score': 0, 'depth': 3, 'symbole': 'O'}], 'score': None, 'depth': 2, 'symbole': 'X'}, {'coor': (0, 2), 'child': [], 'score': -50, 'depth': 2, 'symbole': 'X'}, {'coor': (2, 2), 'child': [{'coor': (2, 0), 'child': [], 'score': 10, 'depth': 3, 'symbole': 'O'}, {'coor': (0, 2), 'child': [], 'score': 10, 'depth': 3, 'symbole': 'O'}], 'score': None, 'depth': 2, 'symbole': 'X'}], 'score': None, 'depth': 1, 'symbole': 'O'}, {'coor': (0, 2), 'child': [{'coor': (2, 0), 'child': [{'coor': (2, 1), 'child': [], 'score': 0, 'depth': 3, 'symbole': 'O'}, {'coor': (2, 2), 'child': [], 'score': 0, 'depth': 3, 'symbole': 'O'}], 'score': None, 'depth': 2, 'symbole': 'X'}, {'coor': (2, 1), 'child': [{'coor': (2, 0), 'child': [], 'score': 50, 'depth': 3, 'symbole': 'O'}, {'coor': (2, 2), 'child': [], 'score': 10, 'depth': 3, 'symbole': 'O'}], 'score': None, 'depth': 2, 'symbole': 'X'}, {'coor': (2, 2), 'child': [{'coor': (2, 0), 'child': [], 'score': 50, 'depth': 3, 'symbole': 'O'}, {'coor': (2, 1), 'child': [], 'score': 10, 'depth': 3, 'symbole': 'O'}], 'score': None, 'depth': 2, 'symbole': 'X'}], 'score': None, 'depth': 1, 'symbole': 'O'}, {'coor': (2, 2), 'child': [{'coor': (2, 0), 'child': [{'coor': (2, 1), 'child': [], 'score': 0, 'depth': 3, 'symbole': 'O'}, {'coor': (0, 2), 'child': [], 'score': 0, 'depth': 3, 'symbole': 'O'}], 'score': None, 'depth': 2, 'symbole': 'X'}, {'coor': (2, 1), 'child': [{'coor': (2, 0), 'child': [], 'score': 10, 'depth': 3, 'symbole': 'O'}, {'coor': (0, 2), 'child': [], 'score': 10, 'depth': 3, 'symbole': 'O'}], 'score': None, 'depth': 2, 'symbole': 'X'}, {'coor': (0, 2), 'child': [], 'score': -50, 'depth': 2, 'symbole': 'X'}], 'score': None, 'depth': 1, 'symbole': 'O'}], 'score': None, 'depth': 0, 'symbole': 'X'}\n"
     ]
    }
   ],
   "source": [
    "def createarbre(grille,coor,symbole,reussite,X,Y,depth,maxdepth,basesymbole):\n",
    "    fut_child=casevide(grille,X,Y)\n",
    "\n",
    "    if depth == maxdepth or check_victoire(grille,symbole,reussite) or len(fut_child) == 0:\n",
    "        return {\"coor\":coor,\"child\":[],\"score\":calcpoint(grille,basesymbole,reussite,X,Y),\"depth\":depth,\"symbole\" : symbole}\n",
    "    \n",
    "    else:        \n",
    "        children = []\n",
    "        for i in fut_child:\n",
    "            newgrille=copy.deepcopy(grille)\n",
    "            newgrille[i[1]][i[0]]=\"O\" if symbole == \"X\" else \"X\"\n",
    "            children.append(createarbre(newgrille,i,\"O\" if symbole == \"X\" else \"X\",reussite,X,Y,depth+1,maxdepth,basesymbole))\n",
    "        return {\"coor\":coor,\"child\":children,\"score\":None,\"depth\":depth,\"symbole\" : symbole}\n",
    "        \n",
    "node=createarbre(morpion,(1,2),\"X\",3,X,Y,0,DEPTH,\"O\")\n",
    "print(node)"
   ]
  },
  {
   "cell_type": "markdown",
   "metadata": {},
   "source": [
    "MinMax fonction"
   ]
  },
  {
   "cell_type": "code",
   "execution_count": 31,
   "metadata": {},
   "outputs": [
    {
     "name": "stdout",
     "output_type": "stream",
     "text": [
      "(0, 2)\n"
     ]
    }
   ],
   "source": [
    "def minmax(node,symbole):\n",
    "    if node[\"score\"] == None:\n",
    "        if node[\"symbole\"] == symbole:\n",
    "            node[\"score\"]=min([minmax(i,symbole) for i in node[\"child\"]])\n",
    "            return node[\"score\"]\n",
    "        else: \n",
    "            node[\"score\"]=max([minmax(i,symbole) for i in node[\"child\"]])\n",
    "            return node[\"score\"]\n",
    "    elif node[\"depth\"] == 0 and node[\"score\"] != None:\n",
    "        return node\n",
    "    else:\n",
    "        return node[\"score\"]\n",
    "\n",
    "\n",
    "\n",
    "node_compl=minmax(node,\"O\")\n",
    "maxi=node_compl[\"child\"][0]\n",
    "for i in node_compl[\"child\"]:\n",
    "    if i[\"score\"] > maxi[\"score\"]:\n",
    "        maxi=i\n",
    "print(maxi[\"coor\"])"
   ]
  },
  {
   "cell_type": "markdown",
   "metadata": {},
   "source": [
    "En pygame maintenant"
   ]
  },
  {
   "cell_type": "code",
   "execution_count": null,
   "metadata": {},
   "outputs": [
    {
     "name": "stdout",
     "output_type": "stream",
     "text": [
      "pygame 2.6.1 (SDL 2.28.4, Python 3.12.6)\n",
      "Hello from the pygame community. https://www.pygame.org/contribute.html\n"
     ]
    },
    {
     "ename": "KeyboardInterrupt",
     "evalue": "",
     "output_type": "error",
     "traceback": [
      "\u001b[31m---------------------------------------------------------------------------\u001b[39m",
      "\u001b[31mKeyboardInterrupt\u001b[39m                         Traceback (most recent call last)",
      "\u001b[36mCell\u001b[39m\u001b[36m \u001b[39m\u001b[32mIn[11]\u001b[39m\u001b[32m, line 31\u001b[39m\n\u001b[32m     29\u001b[39m             \u001b[38;5;28;01melse\u001b[39;00m:\n\u001b[32m     30\u001b[39m                 Play = \u001b[33m\"\u001b[39m\u001b[33mX\u001b[39m\u001b[33m\"\u001b[39m\n\u001b[32m---> \u001b[39m\u001b[32m31\u001b[39m     \u001b[43mpygame\u001b[49m\u001b[43m.\u001b[49m\u001b[43mdisplay\u001b[49m\u001b[43m.\u001b[49m\u001b[43mupdate\u001b[49m\u001b[43m(\u001b[49m\u001b[43m)\u001b[49m\n\u001b[32m     32\u001b[39m quit()\n",
      "\u001b[31mKeyboardInterrupt\u001b[39m: "
     ]
    }
   ],
   "source": [
    "#import pygame\n",
    "#TAILLEX = 3\n",
    "#TAILLEY = 3\n",
    "#N = 100\n",
    "#\n",
    "#morpion = [[0 for j in range(TAILLEX)] for i in range(TAILLEY)]\n",
    "#screen = pygame.display.set_mode((N * TAILLEX, N * TAILLEY))\n",
    "#running = True\n",
    "#Play=\"X\"\n",
    "#\n",
    "#def dess(grille):\n",
    "#    for y in range(TAILLEY):\n",
    "#        for x in range(TAILLEX):\n",
    "#            if grille[y][x] == \"X\":\n",
    "#                pygame.draw.rect(screen, (255, 0, 0), pygame.Rect(x * N, y * N, N - 1, N - 1))\n",
    "#            elif grille[y][x] == \"O\":\n",
    "#                pygame.draw.rect(screen, (0, 255, 0), pygame.Rect(x * N, y * N, N - 1, N - 1))\n",
    "#            else:\n",
    "#                pygame.draw.rect(screen, (0, 0, 0), pygame.Rect(x * N, y * N, N - 1, N - 1))\n",
    "#\n",
    "#while running:\n",
    "#    for event in pygame.event.get():\n",
    "#        if event.type == pygame.QUIT: running = False\n",
    "#        if event.type == pygame.MOUSEBUTTONDOWN:\n",
    "#            pos = pygame.mouse.get_pos()\n",
    "#            morpion[pos[1] // N][pos[0] // N] = Play\n",
    "#            if Play == \"X\":\n",
    "#                Play = \"O\"\n",
    "#            else:\n",
    "#                Play = \"X\"\n",
    "#    pygame.display.update()\n",
    "#quit()\n"
   ]
  }
 ],
 "metadata": {
  "kernelspec": {
   "display_name": "Python 3",
   "language": "python",
   "name": "python3"
  },
  "language_info": {
   "codemirror_mode": {
    "name": "ipython",
    "version": 3
   },
   "file_extension": ".py",
   "mimetype": "text/x-python",
   "name": "python",
   "nbconvert_exporter": "python",
   "pygments_lexer": "ipython3",
   "version": "3.12.6"
  }
 },
 "nbformat": 4,
 "nbformat_minor": 2
}
